{
 "cells": [
  {
   "attachments": {},
   "cell_type": "markdown",
   "metadata": {},
   "source": [
    "# Ceneo Scraper"
   ]
  },
  {
   "attachments": {},
   "cell_type": "markdown",
   "metadata": {},
   "source": [
    "## Extract  components for single opinion\n",
    "\n",
    "|Component|Selector|Variable|\n",
    "|---------|--------|--------|\n",
    "|opinion ID |  [\"data-entry-id\"]  |opinion_id |\n",
    "|opinion’s author |  span.user-post__author-name | author|\n",
    "|author’s recommendation | span.user-post__author-recomendation > em |recommendations|\n",
    "|score expressed in number of stars | span.user-post__score-count |score|\n",
    "|opinion’s content | div.user-post__text |content|\n",
    "|list of product advantages | div.review-feature__title--positives ~ div.review.-feature__items |pros|\n",
    "|list of product disadvantages |div.review-feature__title--negatives ~ div.review.-feature__items |cons|\n",
    "|how many users think that opinion was helpful | button.vote-yes > span |helpful|\n",
    "|how many users think that opinion was unhelpful |button.vote-no > span | unhelpful|\n",
    "|publishing date | span.user-post__published > time:nth-child(1)[\"datetime\"]  |publish_date|\n",
    "|purchase date | span.user-post__published > time:nth-child(2)[\"datetime\"] |purchase_date|\n"
   ]
  },
  {
   "attachments": {},
   "cell_type": "markdown",
   "metadata": {},
   "source": [
    "# imports"
   ]
  },
  {
   "cell_type": "code",
   "execution_count": 68,
   "metadata": {},
   "outputs": [],
   "source": [
    "import json\n",
    "import os\n",
    "import requests\n",
    "from bs4 import BeautifulSoup"
   ]
  },
  {
   "cell_type": "code",
   "execution_count": 69,
   "metadata": {},
   "outputs": [],
   "source": [
    "def extract_content(ancestor,selector,attribute=None,return_list=False):\n",
    "            if selector:\n",
    "                if return_list:\n",
    "                    if attribute:\n",
    "                        return [tag[attribute].strip() for tag in ancestor.select(selector)]\n",
    "                    return [tag.text.strip() for tag in ancestor.select(selector)]\n",
    "                if attribute:\n",
    "                    try:\n",
    "                        return ancestor.select_one(selector)[attribute].strip()\n",
    "                    except TypeError:\n",
    "                        return None\n",
    "            try:\n",
    "                return ancestor.select_one(selector).text.strip()\n",
    "            except AttributeError:\n",
    "                return None\n",
    "            if attribute:\n",
    "                  return ancestor[attribute]\n",
    "            return ancestor[attribute]\n"
   ]
  },
  {
   "attachments": {},
   "cell_type": "markdown",
   "metadata": {},
   "source": [
    "## Opinion Structure"
   ]
  },
  {
   "cell_type": "code",
   "execution_count": 70,
   "metadata": {},
   "outputs": [],
   "source": [
    "selectors={\n",
    "\"opinion_id\":(None,'data-entry-id'),\n",
    "\"author\":(\"span.user-post__author-name\",),\n",
    "\"authors_recommendation\":(\"span.user-post__author-recomendation > em\",),\n",
    "\"stars\" :(\"span.user-post__score-count\",),\n",
    "\"content\" :(\"div.user-post__text\",),\n",
    "\"pros\" :(\"div.review-feature__title--positives ~ div.review-feature__item\",None,True),\n",
    "\"cons\" :(\"div.review-feature__title--negatives ~ div.review-feature__item\",None,True),\n",
    "\"helpful\" :(\"button.vote-yes > span\",),\n",
    "\"unhelpful\" :(\"button.vote-no > span\",),\n",
    "\"publish_date\": (\"span.user-post__published > time:nth-child(1)\",\"datetime\"),\n",
    "\"purchase_date\":(\"span.user-post__published > time:nth-child(2)\",\"datetime\"),\n",
    "}\n"
   ]
  },
  {
   "cell_type": "code",
   "execution_count": 72,
   "metadata": {},
   "outputs": [],
   "source": [
    "def score(score:str) ->float:\n",
    "    s=score.split(\"/\")\n",
    "    return float(s[0].replace(',','.'))/float(s[1])\n"
   ]
  },
  {
   "cell_type": "markdown",
   "metadata": {},
   "source": [
    "## Dictionary 2"
   ]
  },
  {
   "cell_type": "code",
   "execution_count": null,
   "metadata": {},
   "outputs": [],
   "source": [
    "transformations={\n",
    "    \"authors_recommendation\": lambda r: True if r==\"Polecam\" else False if r== \"nie polecam\" else None\n",
    "    \"stars\" : score:\n",
    "    \"helpful\" :\n",
    "    \"unhelpful\" :\n",
    "}"
   ]
  },
  {
   "attachments": {},
   "cell_type": "markdown",
   "metadata": {},
   "source": [
    "# Send requests to Ceneo.pl service"
   ]
  },
  {
   "cell_type": "code",
   "execution_count": null,
   "metadata": {},
   "outputs": [
    {
     "data": {
      "text/plain": [
       "200"
      ]
     },
     "execution_count": 48,
     "metadata": {},
     "output_type": "execute_result"
    }
   ],
   "source": [
    "\n",
    "product_id= \"108290707\"\n",
    "url=f\"https://www.ceneo.pl/{product_id}\"\n",
    "response = requests.get(url)\n",
    "response.status_code\n"
   ]
  },
  {
   "cell_type": "code",
   "execution_count": null,
   "metadata": {},
   "outputs": [],
   "source": [
    "page_dom = BeautifulSoup(response.text,\"html.parser\")\n",
    "opinions =page_dom.select(\"div.js_product-review\")\n",
    "all_opinions=[]"
   ]
  },
  {
   "attachments": {},
   "cell_type": "markdown",
   "metadata": {},
   "source": [
    "## Convert plain text HTML code into DOM structure"
   ]
  },
  {
   "attachments": {},
   "cell_type": "markdown",
   "metadata": {},
   "source": [
    "## Extract all components of single opinion"
   ]
  },
  {
   "cell_type": "code",
   "execution_count": null,
   "metadata": {},
   "outputs": [],
   "source": [
    "all_opinions=[]\n",
    "while(url):\n",
    "  response = requests.get(url)\n",
    "  response.status_code\n",
    "  page_dom = BeautifulSoup(response.text,\"html.parser\")\n",
    "  opinions =page_dom.select(\"div.js_product-review\")\n",
    "  for opinion in opinions:\n",
    "    single_opinion={\n",
    "        key: extract_content(opinion, *value)\n",
    "          for key,value in selectors.items()\n",
    "    }\n",
    "    for key,value in transformations.item():\n",
    "      single.opinion[key]=value(single.opinion[key])\n",
    "      \n",
    "    all_opinions.append(single_opinion)\n",
    "  try:\n",
    "    url =\"https://www.ceneo.pl\"+extract_content(page_dom,\"a.pagination__next\",\"href\")\n",
    "  except TypeError:\n",
    "    url=None"
   ]
  },
  {
   "cell_type": "code",
   "execution_count": null,
   "metadata": {},
   "outputs": [],
   "source": [
    "if not os.path.exists(\"opinions\"):\n",
    "    os.mkdir(\"opinions\")\n",
    "    \n",
    "with open(f\"opinions/{product_id}.json\",\"w\",encoding=\"UTF-8\") as jf:\n",
    "    json.dump(all_opinions,jf,indent=4,ensure_ascii=False)\n",
    " "
   ]
  },
  {
   "cell_type": "code",
   "execution_count": null,
   "metadata": {},
   "outputs": [
    {
     "data": {
      "text/plain": [
       "45"
      ]
     },
     "execution_count": 52,
     "metadata": {},
     "output_type": "execute_result"
    }
   ],
   "source": [
    "len(all_opinions)"
   ]
  }
 ],
 "metadata": {
  "kernelspec": {
   "display_name": ".venv",
   "language": "python",
   "name": "python3"
  },
  "language_info": {
   "codemirror_mode": {
    "name": "ipython",
    "version": 3
   },
   "file_extension": ".py",
   "mimetype": "text/x-python",
   "name": "python",
   "nbconvert_exporter": "python",
   "pygments_lexer": "ipython3",
   "version": "3.11.4"
  },
  "orig_nbformat": 4
 },
 "nbformat": 4,
 "nbformat_minor": 2
}
